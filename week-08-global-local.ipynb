{
 "cells": [
  {
   "attachments": {},
   "cell_type": "markdown",
   "metadata": {},
   "source": [
    "# Week 08: Local/Global Variables"
   ]
  },
  {
   "attachments": {},
   "cell_type": "markdown",
   "metadata": {},
   "source": [
    "## 0. Import Libraries "
   ]
  },
  {
   "cell_type": "code",
   "execution_count": 7,
   "metadata": {},
   "outputs": [],
   "source": [
    "# the \"pandas\" library is for manipualting datasets\n",
    "import pandas as pd\n",
    "import numpy as np\n",
    "np.random.seed(100)"
   ]
  },
  {
   "cell_type": "markdown",
   "metadata": {},
   "source": [
    "## 1. Array Continued (Stacking)\n",
    "\n",
    "<font size='4'>"
   ]
  },
  {
   "cell_type": "code",
   "execution_count": 8,
   "metadata": {},
   "outputs": [
    {
     "name": "stdout",
     "output_type": "stream",
     "text": [
      "[1. 1. 1. 1.]\n",
      "\n",
      "[1. 2. 3. 4. 1. 1. 1. 1.]\n",
      "\n",
      "[[1. 2. 3. 4.]\n",
      " [1. 1. 1. 1.]]\n",
      "\n",
      "[[1. 1.]\n",
      " [2. 1.]\n",
      " [3. 1.]\n",
      " [4. 1.]]\n"
     ]
    }
   ],
   "source": [
    "# 9.1.\n",
    "x = np.ones((4,))\n",
    "print(x)\n",
    "print()\n",
    "my_array = np.array([1,2,3,4])\n",
    "my_resized_array=np.resize(my_array,(2,4))\n",
    "my_2d_array = np.array([[1,2,3,4], [5,6,7,8]], dtype=np.int64)\n",
    "\n",
    "# Concatentate `my_array` and `x`\n",
    "print(np.concatenate([my_array, x], axis=0))\n",
    "print()\n",
    "print(np.stack([my_array, x], axis=0))\n",
    "print()\n",
    "print(np.stack([my_array, x], axis=1))"
   ]
  },
  {
   "cell_type": "code",
   "execution_count": 12,
   "metadata": {},
   "outputs": [
    {
     "name": "stdout",
     "output_type": "stream",
     "text": [
      "[[1 2 3 4]\n",
      " [1 2 3 4]\n",
      " [5 6 7 8]]\n",
      "[[1 2 3 4 1 2 3 4]\n",
      " [1 2 3 4 5 6 7 8]]\n"
     ]
    }
   ],
   "source": [
    "# 9.2. Stack arrays row-wise (by Python's default)\n",
    "print(np.vstack((my_array, my_2d_array)))\n",
    "\n",
    "print(np.hstack((my_resized_array, my_2d_array)))"
   ]
  },
  {
   "cell_type": "code",
   "execution_count": 19,
   "metadata": {},
   "outputs": [
    {
     "name": "stdout",
     "output_type": "stream",
     "text": [
      "[[1 2 3 4 1 2 3 4]\n",
      " [1 2 3 4 5 6 7 8]]\n",
      "[array([[1, 2, 3, 4],\n",
      "       [1, 2, 3, 4]]), array([[1, 2, 3, 4],\n",
      "       [5, 6, 7, 8]])]\n",
      "Or\n",
      "[array([[1, 2, 3, 4],\n",
      "       [1, 2, 3, 4]]), array([[1, 2, 3, 4],\n",
      "       [5, 6, 7, 8]])]\n",
      "[array([[1, 2, 3, 4, 1, 2, 3, 4]]), array([[1, 2, 3, 4, 5, 6, 7, 8]])]\n",
      "Or\n",
      "[array([[1, 2, 3, 4, 1, 2, 3, 4]]), array([[1, 2, 3, 4, 5, 6, 7, 8]])]\n"
     ]
    }
   ],
   "source": [
    "# 9.3.\n",
    "my_array = np.array([1,2,3,4])\n",
    "my_resized_array=np.resize(my_array,(2,4))\n",
    "my_2d_array = np.array([[1,2,3,4], [5,6,7,8]], dtype=np.int64)\n",
    "\n",
    "my_stacked_array = np.hstack((my_resized_array, my_2d_array))\n",
    "print(my_stacked_array)\n",
    "\n",
    "# if the second argument is an integer, it will split the array into an N equal sub-arrays\n",
    "# Split `my_stacked_array` horizontally into two equal sub-arrays\n",
    "print(np.split(my_stacked_array, 2, axis=1))\n",
    "print(\"Or\")\n",
    "print(np.hsplit(my_stacked_array, 2))\n",
    "\n",
    "# Split `my_stacked_array` vertically into two equal sub-arrays\n",
    "print(np.split(my_stacked_array, 2, axis=0))\n",
    "print(\"Or\")\n",
    "print(np.vsplit(my_stacked_array, 2))"
   ]
  },
  {
   "cell_type": "code",
   "execution_count": 23,
   "metadata": {},
   "outputs": [
    {
     "ename": "SyntaxError",
     "evalue": "invalid syntax. Perhaps you forgot a comma? (2863180331.py, line 4)",
     "output_type": "error",
     "traceback": [
      "  \u001b[36mCell\u001b[39m\u001b[36m \u001b[39m\u001b[32mIn[23]\u001b[39m\u001b[32m, line 4\u001b[39m\n\u001b[31m    \u001b[39m\u001b[31mprint(np.hsplit(my)stacked_array, np.array([2,5]))\u001b[39m\n          ^\n\u001b[31mSyntaxError\u001b[39m\u001b[31m:\u001b[39m invalid syntax. Perhaps you forgot a comma?\n"
     ]
    }
   ],
   "source": [
    "# 9.4. Use indices in the form of a numpy array\n",
    "print(np.split(my_stacked_array, np.array([2,5]), axis=1))\n",
    "print(\"Or\")\n",
    "print(np.hsplit(my)stacked_array, np.array([2,5]))"
   ]
  },
  {
   "cell_type": "code",
   "execution_count": 25,
   "metadata": {},
   "outputs": [
    {
     "name": "stdout",
     "output_type": "stream",
     "text": [
      "[[[93.34867646 93.38795196 88.3098446  79.27001046 90.93204723]\n",
      "  [95.78854887 88.75971273 99.47223489 99.29500381 75.00082394]\n",
      "  [70.69534409 74.82233646 97.70490476 98.6064955  76.32935256]\n",
      "  [80.81575752 86.48125785 78.15492548 83.81804863 90.88484694]\n",
      "  [85.0106769  91.48212972 85.77867809 70.04197069 81.8410086 ]\n",
      "  [84.7650091  82.08640994 80.628949   85.01842958 83.35529886]\n",
      "  [72.71298365 78.2068876  98.30431293 70.79633924 71.19996069]\n",
      "  [78.49421079 87.47032511 99.72678409 99.77926712 99.79352117]\n",
      "  [73.30144993 89.93444338 85.71960503 75.19449729 98.28880735]\n",
      "  [77.25580258 99.96796807 87.48081445 75.49837002 81.60536266]]\n",
      "\n",
      " [[75.69020587 82.32312019 87.84040207 91.49758279 84.60674447]\n",
      "  [79.28769453 87.32324118 83.25123459 80.79034308 79.63995796]\n",
      "  [76.24621721 83.53775872 84.75528731 96.97228944 91.88081383]\n",
      "  [93.10269319 81.26317743 80.31218606 89.65105618 91.3311398 ]\n",
      "  [73.40612726 73.99086068 83.68117173 74.7920869  98.84925711]\n",
      "  [95.12847235 85.60482061 76.54816773 74.04756168 99.37211036]\n",
      "  [91.21130487 95.79926671 81.61517883 77.52502059 78.98314057]\n",
      "  [95.70686585 84.18951972 89.89831141 94.17185822 77.58941514]\n",
      "  [72.38720317 91.98281815 98.84192433 98.61414203 84.71497156]\n",
      "  [88.96576193 91.9898506  97.0722851  74.86740756 82.17643967]]]\n",
      "(2, 10, 5)\n"
     ]
    }
   ],
   "source": [
    "# 9.5. Let's create a practical example and call back from the blood pressue problem.\n",
    "# (2, 10, 5) refers to two sites, 10 patients each site, and 5 time points per patient.\n",
    "BP_3d_arr = np.random.uniform(low=70, high=100, size=(2, 10, 5))\n",
    "print(BP_3d_arr)\n",
    "print(BP_3d_arr.shape)"
   ]
  },
  {
   "cell_type": "code",
   "execution_count": 27,
   "metadata": {},
   "outputs": [
    {
     "name": "stdout",
     "output_type": "stream",
     "text": [
      "[[84.51944117 87.85553607 88.07512333 85.38379662 87.76939585]\n",
      " [87.5381217  88.04147696 91.36173474 90.04267344 77.32039095]\n",
      " [73.47078065 79.18004759 91.23009603 97.78939247 84.1050832 ]\n",
      " [86.95922536 83.87221764 79.23355577 86.73455241 91.10799337]\n",
      " [79.20840208 82.7364952  84.72992491 72.4170288  90.34513286]\n",
      " [89.94674072 83.84561528 78.58855837 79.53299563 91.36370461]\n",
      " [81.96214426 87.00307715 89.95974588 74.16067992 75.09155063]\n",
      " [87.10053832 85.82992241 94.81254775 96.97556267 88.69146816]\n",
      " [72.84432655 90.95863076 92.28076468 86.90431966 91.50188945]\n",
      " [83.11078226 95.97890933 92.27654978 75.18288879 81.89090116]]\n",
      "(10, 5)\n"
     ]
    }
   ],
   "source": [
    "# 9.5.1 axis takes one number\n",
    "\n",
    "BP_3d_arr_mean_1 = np.mean(BP_3d_arr, axis=0)\n",
    "print(BP_3d_arr_mean_1)\n",
    "print(BP_3d_arr_mean_1.shape)\n"
   ]
  },
  {
   "cell_type": "code",
   "execution_count": 30,
   "metadata": {},
   "outputs": [
    {
     "name": "stdout",
     "output_type": "stream",
     "text": [
      "[85.45236797 85.70052937]\n",
      "(2,)\n",
      "[85.45236797 85.70052937]\n",
      "(2,)\n"
     ]
    }
   ],
   "source": [
    "# 9.5.2 axis takes two numbers\n",
    "#calculates mean of site 1 and 2 at all times points\n",
    "BP_3d_arr_mean_4 = np.mean(BP_3d_arr, axis=(1,2))\n",
    "print(BP_3d_arr_mean_4)\n",
    "print(BP_3d_arr_mean_4.shape)\n",
    "\n",
    "BP_3d_arr_mean_4 = np.mean(BP_3d_arr, axis=(-2,-1))\n",
    "print(BP_3d_arr_mean_4)\n",
    "print(BP_3d_arr_mean_4.shape)"
   ]
  },
  {
   "cell_type": "code",
   "execution_count": 33,
   "metadata": {},
   "outputs": [
    {
     "name": "stdout",
     "output_type": "stream",
     "text": [
      "85.57644866677343\n",
      "OR\n",
      "85.57644866677343\n"
     ]
    }
   ],
   "source": [
    "# 9.5.3. axis takes three numbers or None\n",
    "BP_3d_arr_mean_7 = np.mean(BP_3d_arr, axis=(0,1,2))\n",
    "print(BP_3d_arr_mean_7)\n",
    "\n",
    "print(\"OR\")\n",
    "BP_3d_arr_mean_8 = np.mean(BP_3d_arr, axis=(None))\n",
    "print(BP_3d_arr_mean_8)"
   ]
  },
  {
   "attachments": {},
   "cell_type": "markdown",
   "metadata": {},
   "source": [
    "## 2. Local and Global Variables\n",
    "\n",
    "<font size=\"4\"> \n",
    "\n",
    "Most of the variables we've defined so far are \"global\"\n",
    "\n",
    "- Stored in working environment\n",
    "- Can be referenced in other parts of the notebook\n",
    "\n"
   ]
  },
  {
   "attachments": {},
   "cell_type": "markdown",
   "metadata": {},
   "source": [
    "<font size = \"5\">\n",
    "Example:"
   ]
  },
  {
   "cell_type": "code",
   "execution_count": 34,
   "metadata": {},
   "outputs": [],
   "source": [
    "message_hello = \"hello\"\n",
    "number3       = 3"
   ]
  },
  {
   "cell_type": "code",
   "execution_count": 35,
   "metadata": {},
   "outputs": [
    {
     "name": "stdout",
     "output_type": "stream",
     "text": [
      "hello world\n",
      "6\n"
     ]
    }
   ],
   "source": [
    "print(message_hello + \" world\")\n",
    "print(number3 * 2)"
   ]
  },
  {
   "attachments": {},
   "cell_type": "markdown",
   "metadata": {},
   "source": [
    "<font size = \"4\">\n",
    "\n",
    "Any \"global\" variable can be referenced inside functions\n",
    "\n",
    "- However, this can lead to mistakes\n",
    "- Preferrably, include **all** the inputs as parameters"
   ]
  },
  {
   "attachments": {},
   "cell_type": "markdown",
   "metadata": {},
   "source": [
    "<font size = \"4\">\n",
    "\n",
    "$f(x,y,z) = x + y + z$"
   ]
  },
  {
   "cell_type": "code",
   "execution_count": 38,
   "metadata": {},
   "outputs": [
    {
     "name": "stdout",
     "output_type": "stream",
     "text": [
      "8\n",
      "13\n"
     ]
    }
   ],
   "source": [
    "# 2.1. Correct Example:\n",
    "def fn_add_recommended (x,y,z):\n",
    "    return x+y+z\n",
    "\n",
    "print(fn_add_recommended(1,2,5))\n",
    "print(fn_add_recommended(1,2,10))\n",
    "    "
   ]
  },
  {
   "cell_type": "code",
   "execution_count": 40,
   "metadata": {},
   "outputs": [
    {
     "name": "stdout",
     "output_type": "stream",
     "text": [
      "8\n",
      "13\n"
     ]
    }
   ],
   "source": [
    "# 2.2. Example that runs (but not recommended)\n",
    "# Python will try to fill in any missing inputs\n",
    "# with variables in the working environment\n",
    "\n",
    "def fn_add_notrecommended(x,y):\n",
    "    return x+y+z\n",
    "z = 5\n",
    "print(fn_add_notrecommended(1,2))\n",
    "\n",
    "z = 10\n",
    "print(fn_add_notrecommended(1,2))"
   ]
  },
  {
   "cell_type": "code",
   "execution_count": 43,
   "metadata": {},
   "outputs": [
    {
     "name": "stdout",
     "output_type": "stream",
     "text": [
      "20\n"
     ]
    },
    {
     "ename": "NameError",
     "evalue": "name 'j' is not defined",
     "output_type": "error",
     "traceback": [
      "\u001b[31m---------------------------------------------------------------------------\u001b[39m",
      "\u001b[31mNameError\u001b[39m                                 Traceback (most recent call last)",
      "\u001b[36mCell\u001b[39m\u001b[36m \u001b[39m\u001b[32mIn[43]\u001b[39m\u001b[32m, line 8\u001b[39m\n\u001b[32m      5\u001b[39m     \u001b[38;5;28mprint\u001b[39m(j)\n\u001b[32m      7\u001b[39m print_j()\n\u001b[32m----> \u001b[39m\u001b[32m8\u001b[39m \u001b[38;5;28mprint\u001b[39m(\u001b[43mj\u001b[49m)\n",
      "\u001b[31mNameError\u001b[39m: name 'j' is not defined"
     ]
    }
   ],
   "source": [
    "# 2.2.1.\n",
    "#del z # remove variables from a global scope\n",
    "def print_j():\n",
    "    j=20\n",
    "    print(j)\n",
    "\n",
    "print_j()\n",
    "print(j)\n",
    "    "
   ]
  },
  {
   "attachments": {},
   "cell_type": "markdown",
   "metadata": {},
   "source": [
    "<font size =\"4\">\n",
    "\n",
    "Variables defined inside functions are \"local\"\n",
    "\n",
    "- Stored \"temporarily\" while running\n",
    "- Includes: Parameters + Intermediate variables\n"
   ]
  },
  {
   "attachments": {},
   "cell_type": "markdown",
   "metadata": {},
   "source": [
    "### Local variables supercede global variables"
   ]
  },
  {
   "cell_type": "code",
   "execution_count": null,
   "metadata": {},
   "outputs": [],
   "source": [
    "# 2.3.\n"
   ]
  },
  {
   "cell_type": "code",
   "execution_count": 48,
   "metadata": {},
   "outputs": [
    {
     "name": "stdout",
     "output_type": "stream",
     "text": [
      "0 bios\n",
      "1 edpi\n",
      "2 hshes\n",
      "[]\n",
      "2 hshes\n"
     ]
    }
   ],
   "source": [
    "# 2.4. An exception\n",
    "\n",
    "depart_ls = [\"bios\", \"edpi\", \"hshes\"]\n",
    "for id_iter, depart_iter in enumerate(depart_ls):\n",
    "    print(id_iter, depart_iter)\n",
    "\n",
    "print(\"[]\")\n",
    "print(id_iter, depart_iter)"
   ]
  },
  {
   "cell_type": "code",
   "execution_count": 51,
   "metadata": {},
   "outputs": [
    {
     "name": "stdout",
     "output_type": "stream",
     "text": [
      "1.44\n",
      "[]\n",
      "5 -5\n"
     ]
    }
   ],
   "source": [
    "# 2.5. This is an example where we define a quadratic function\n",
    "# (x,y) are both local variables of the function\n",
    "# \n",
    "# When we call the function, only the arguments matter.\n",
    "# any intermediate value inside the function are \"invisible\"\n",
    "# or \"inaccessible\" when exiting the function.\n",
    "\n",
    "def fn_square(x):\n",
    "    y = x**2\n",
    "    return y\n",
    "\n",
    "x = 5 \n",
    "y = -5\n",
    "print(fn_square(x =1.2))\n",
    "print(\"[]\")\n",
    "print(x, y)"
   ]
  },
  {
   "attachments": {},
   "cell_type": "markdown",
   "metadata": {},
   "source": [
    "### Local variables are **not** stored in the working environment"
   ]
  },
  {
   "cell_type": "code",
   "execution_count": 52,
   "metadata": {},
   "outputs": [
    {
     "name": "stdout",
     "output_type": "stream",
     "text": [
      "100\n",
      "5 4\n",
      "400\n",
      "5 4\n"
     ]
    }
   ],
   "source": [
    "# 2.6. The following code assigns a global variable x\n",
    "x =5\n",
    "y = 4\n",
    "\n",
    "print(fn_square(10))\n",
    "\n",
    "print(x, y)\n",
    "\n",
    "print(fn_square(20))\n",
    "print(x, y)"
   ]
  },
  {
   "attachments": {},
   "cell_type": "markdown",
   "metadata": {},
   "source": [
    "### To permanently modify a variable, use the \"global\" command"
   ]
  },
  {
   "cell_type": "code",
   "execution_count": null,
   "metadata": {},
   "outputs": [],
   "source": [
    "# 2.7.\n"
   ]
  },
  {
   "attachments": {},
   "cell_type": "markdown",
   "metadata": {},
   "source": [
    "### Try it yourself:\n",
    "\n",
    "<font size = \"4\">\n",
    "    \n",
    "- What happens if we run `modify_x` twice?\n",
    "- What happens if we add `global y` inside `fn_square`?"
   ]
  },
  {
   "cell_type": "code",
   "execution_count": 55,
   "metadata": {},
   "outputs": [
    {
     "name": "stdout",
     "output_type": "stream",
     "text": [
      "x=1 before modification\n",
      "x=6 after modification\n",
      "x=6 after modification again\n"
     ]
    }
   ],
   "source": [
    "# 2.8. Write your own code here\n",
    "def modify_x():\n",
    "    global x\n",
    "    x = x+5\n",
    "\n",
    "x = 1\n",
    "print(\"x={} before modification\".format(x))\n",
    "modify_x()\n",
    "print(\"x={} after modification\".format(x))\n",
    "\n",
    "modify_x()\n",
    "print(\"x={} after modification again\".format(x))"
   ]
  },
  {
   "cell_type": "code",
   "execution_count": 63,
   "metadata": {},
   "outputs": [
    {
     "name": "stdout",
     "output_type": "stream",
     "text": [
      "5 -5\n",
      "1.44\n",
      "5 1.44\n"
     ]
    }
   ],
   "source": [
    "# 2.9.\n",
    "def fn_square2(x):\n",
    "    global y\n",
    "    y = x**2\n",
    "    return y\n",
    "\n",
    "x = 5\n",
    "y = -5\n",
    "\n",
    "\n",
    "print (x, y)\n",
    "z1= fn_square2(1.2)\n",
    "print(z1)\n",
    "print(x,y)\n"
   ]
  },
  {
   "cell_type": "markdown",
   "metadata": {},
   "source": [
    "### Built-in scope (Variables defined in Python)\n",
    "\n",
    "<font size='4'>\n",
    "\n",
    "- Functions such as `print()`, `len()`, `sum()`, `isinstance()` are all built-in functions in Python.\n",
    "- They are available in any part of your code, so no need to define them.\n",
    "- Python has a list of variables that are always available to prevent you from using the same names.\n",
    "- Most of them are error names."
   ]
  },
  {
   "cell_type": "code",
   "execution_count": 66,
   "metadata": {},
   "outputs": [
    {
     "name": "stdout",
     "output_type": "stream",
     "text": [
      "inner->x\n",
      "outer->x\n"
     ]
    }
   ],
   "source": [
    "# 2.10\n",
    "def outer():\n",
    "    x = \"outer->x\"\n",
    "\n",
    "    def inner():\n",
    "        x = \"inner->x\"\n",
    "        print(x)\n",
    "\n",
    "    inner()\n",
    "    print(x)\n",
    "\n",
    "outer()"
   ]
  },
  {
   "cell_type": "markdown",
   "metadata": {},
   "source": [
    "### Enclosing scope (Variables defined in enclosing functions)\n",
    "\n",
    "<font size='4'>\n",
    "    \n",
    "- They refer to variables defined in enclosing functions\n",
    "- Enclosing functions are functions that contain other functions (nested or hierarachical functions)\n",
    "- Enclosing scope is between local and global scopes in the LEGB rule"
   ]
  },
  {
   "cell_type": "code",
   "execution_count": null,
   "metadata": {},
   "outputs": [],
   "source": [
    "# 2.11\n",
    "# Define a function that contains another function\n"
   ]
  },
  {
   "cell_type": "code",
   "execution_count": null,
   "metadata": {},
   "outputs": [],
   "source": []
  },
  {
   "cell_type": "markdown",
   "metadata": {},
   "source": [
    "## 3. Work with Python scripts\n",
    "\n",
    "<font size='4'>\n",
    "\n",
    "Please open `week_08_main_1.py` and `week_08_main_2.py`."
   ]
  }
 ],
 "metadata": {
  "kernelspec": {
   "display_name": "Python 3 (ipykernel)",
   "language": "python",
   "name": "python3"
  },
  "language_info": {
   "codemirror_mode": {
    "name": "ipython",
    "version": 3
   },
   "file_extension": ".py",
   "mimetype": "text/x-python",
   "name": "python",
   "nbconvert_exporter": "python",
   "pygments_lexer": "ipython3",
   "version": "3.13.7"
  },
  "vscode": {
   "interpreter": {
    "hash": "45fc1f684f6f416f40889115beff3ddf69879b64cf4bfee48cb72a61e9d15d1a"
   }
  }
 },
 "nbformat": 4,
 "nbformat_minor": 4
}

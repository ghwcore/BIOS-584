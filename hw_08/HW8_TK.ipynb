{
 "cells": [
  {
   "cell_type": "markdown",
   "id": "4d99a94a-c380-4709-8873-caf66152aa76",
   "metadata": {},
   "source": [
    "# HW8 (20')\n",
    "\n",
    "<font size='4'>\n",
    "\n",
    "For this assignment, it is a combination of jupyter notebook assignment and python scripts.\n",
    "\n",
    "For Q1, please upload your outputs including codes and graphics to your own GitHub repository. <br> You will need to disclose your GitHub repository below.\n",
    "\n",
    "For Q2, please submit this jupyter notebook as an HTML or PDF file.\n",
    "\n",
    "First of all, print your name (First and Last) below."
   ]
  },
  {
   "cell_type": "code",
   "execution_count": 1,
   "id": "21a37202-5fb1-44da-8ce4-756934fbd067",
   "metadata": {},
   "outputs": [
    {
     "name": "stdout",
     "output_type": "stream",
     "text": [
      "TANMAYEE KODALI\n"
     ]
    }
   ],
   "source": [
    "print(\"TANMAYEE KODALI\")"
   ]
  },
  {
   "cell_type": "markdown",
   "id": "205bd5ad-c5ef-4515-8dea-d3f87f17f4b0",
   "metadata": {},
   "source": [
    "## 0. Import relevant packages"
   ]
  },
  {
   "cell_type": "code",
   "execution_count": 3,
   "id": "3f72739f-c63c-4a6e-a5d0-c7ddc0f05242",
   "metadata": {},
   "outputs": [],
   "source": [
    "import os\n",
    "import numpy as np\n",
    "import pandas as pd\n",
    "import scipy.stats as stats\n",
    "import statsmodels.formula.api as smf"
   ]
  },
  {
   "cell_type": "markdown",
   "id": "94ff8980-aabc-4e7b-a846-fcc80c3920cf",
   "metadata": {},
   "source": [
    "## Q1. Convert your HW7 to python scripts. (10')\n",
    "\n",
    "<font size='4'>\n",
    "\n",
    "- Under your working directory, there should be a folder called `self_py_fun`.\n",
    "- Create a new python file called `HW8Fun.py` and move previously defined functions `produce_trun_mean_cov()`, `plot_trunc_mean()`, and `plot_trunc_cov()` to that file. Make sure you import proper packages.\n",
    "- Create another main file `HW8_main.py`.\n",
    "- Import relevant packages, modules, and/or function.\n",
    "- Copy the global variables and call your functions inside `HW8_main.py`.\n",
    "- A major difference compared to HW7 is that you are asked to save those figures to your local working environment.\n",
    "    - Create a new directory `K114` under your current working directory.\n",
    "    - For mean functions, please save it as a `Mean.png` output using `plt.savefig()` function.\n",
    "    - The changes should be made within `HW8Fun.py` rather than `HW8_main.py`.\n",
    "    - For covariance matrices, please save them as `Covariance_Target.png`, `Covariance_Non-Target.png`, and `Covariance_All.png` outputs using the same function above.\n",
    "    - To summarize, there should be **four** figures under `K114` folder.\n",
    "- Upload your entire work to your GitHub repository via push button."
   ]
  },
  {
   "cell_type": "code",
   "execution_count": 90,
   "id": "7cb9623e-17b9-4062-bdd0-1f19a9d3f744",
   "metadata": {},
   "outputs": [],
   "source": [
    "# Provide your GitHub repository link below in the Markdown chunk. Remember to make it public and make the link clickable.\n",
    "# Do not include sensitive information in your GitHub repository."
   ]
  },
  {
   "cell_type": "markdown",
   "id": "ecf94138-c7f5-4e2b-ba01-7df9beb1d03d",
   "metadata": {},
   "source": [
    "https://github.com/TanmayeeKodali/BIOS-584"
   ]
  },
  {
   "cell_type": "markdown",
   "id": "33469a50-fa2e-4b1d-bb2e-15e924437235",
   "metadata": {},
   "source": [
    "## Q2. A real-world data anlaysis using `Pandas` and `Scipy` (10')\n",
    "\n",
    "<font size='4'>\n",
    "\n",
    "- Back to the `PTSD dataset.xlsx`, let's import the dataset and name it `ptsd_df`. (no point since everyone has done it a couple of times before.)"
   ]
  },
  {
   "cell_type": "code",
   "execution_count": 8,
   "id": "031c92eb-a96d-410f-9724-443ba5431900",
   "metadata": {},
   "outputs": [
    {
     "name": "stdout",
     "output_type": "stream",
     "text": [
      "E:\\Git Hub\\BIOS-584\n",
      "<class 'pandas.core.frame.DataFrame'>\n",
      "   record_id  ptsdpresent_caps  caps_minuspcl  caps_minuspcl_code  \\\n",
      "0        460                 1            -56                   1   \n",
      "1       5942                 1            -49                   1   \n",
      "2       5366                 1            -48                   1   \n",
      "3       3480                 1            -47                   1   \n",
      "4       1029                 1            -46                   1   \n",
      "\n",
      "   caps_intake  pcl5_score_intake  pcl5month_score.baseline  \\\n",
      "0           15                 71                      75.0   \n",
      "1           23                 72                       NaN   \n",
      "2           31                 79                      62.0   \n",
      "3           31                 78                      76.0   \n",
      "4           28                 74                      52.0   \n",
      "\n",
      "   pcl5week_score.completion  pcl5month_score.3_month_follow_up  mdd_code  \\\n",
      "0                       40.0                                NaN         0   \n",
      "1                       52.0                               29.0         0   \n",
      "2                       23.0                                NaN         1   \n",
      "3                       72.0                                NaN         0   \n",
      "4                       29.0                               36.0         0   \n",
      "\n",
      "   ...  state_code  va_benefits_indicator  wwp_alumni_indicator  army  \\\n",
      "0  ...          TX                    Yes                    No   1.0   \n",
      "1  ...          GA                    Yes                    No   0.0   \n",
      "2  ...          GA                      N                     N   1.0   \n",
      "3  ...          GA                    Yes                   Yes   1.0   \n",
      "4  ...          GA                    Yes                    No   0.0   \n",
      "\n",
      "   airforce  marines  navy  coastguard  nationalguard  reserve  \n",
      "0       0.0      0.0   0.0         0.0            0.0      0.0  \n",
      "1       1.0      0.0   0.0         0.0            0.0      0.0  \n",
      "2       0.0      0.0   0.0         0.0            0.0      0.0  \n",
      "3       0.0      0.0   0.0         0.0            0.0      0.0  \n",
      "4       0.0      1.0   0.0         0.0            0.0      0.0  \n",
      "\n",
      "[5 rows x 439 columns]\n"
     ]
    }
   ],
   "source": [
    "# Write your own code\n",
    "print(os.getcwd())\n",
    "ptsd_dir = '{}/data/PTSD dataset.xlsx'.format(os.getcwd())\n",
    "ptsd_df = pd.read_excel(ptsd_dir, sheet_name='main_dataset')\n",
    "print(type(ptsd_df))\n",
    "print(ptsd_df.head())"
   ]
  },
  {
   "cell_type": "markdown",
   "id": "209f1981-d0d5-44e9-ac03-7f42a71a287a",
   "metadata": {},
   "source": [
    "### Q2.1. Univariate comparison (3')\n",
    "\n",
    "<font size='4'> \n",
    "    \n",
    "- Suppose that we would like to examine the utility/effect of an intervention program for patients with PTSD.\n",
    "- We measure PCL5 scores at completion (`pcl5week_score.completion`) and PCL5 score at 3-month follow-up (`pcl5month_score.3_month_follow_up`). Let's assume the first score is pre-intervention and the second score is post-intervention.\n",
    "- Report the summary statistics for each variable including mean, std, median, Q1, and Q3.\n",
    "- Note that each patient will receive such two PCL5 scores. Use a appropriate statistical test to perform the univariate comparison. Report the outputing statistic and p-value.\n",
    "- Before you run the statistic test, determine the data type and check the missingness of two columns. In particular, report the number of NA values for each variable."
   ]
  },
  {
   "cell_type": "code",
   "execution_count": 11,
   "id": "4deaacf5-b684-4c5f-8a35-728d899d8a5e",
   "metadata": {},
   "outputs": [
    {
     "name": "stdout",
     "output_type": "stream",
     "text": [
      "float64\n",
      "float64\n",
      "27\n",
      "251\n",
      "count    224.000000\n",
      "mean      27.209821\n",
      "std       19.184862\n",
      "min        0.000000\n",
      "25%       12.750000\n",
      "50%       22.000000\n",
      "75%       41.000000\n",
      "max       75.000000\n",
      "Name: pcl5week_score.completion, dtype: float64\n",
      "count    224.000000\n",
      "mean      32.026786\n",
      "std       18.978610\n",
      "min        0.000000\n",
      "25%       16.000000\n",
      "50%       31.000000\n",
      "75%       46.000000\n",
      "max       79.000000\n",
      "Name: pcl5month_score.3_month_follow_up, dtype: float64\n",
      "t-statistic: -4.709238006778945\n",
      "p-value: 4.370038747681667e-06\n"
     ]
    }
   ],
   "source": [
    "# Write your own code\n",
    "# Define the two variables\n",
    "pre_int = 'pcl5week_score.completion'\n",
    "post_int = 'pcl5month_score.3_month_follow_up'\n",
    "\n",
    "# Check data types\n",
    "print(ptsd_df[pre_int].dtype)\n",
    "print(ptsd_df[post_int].dtype)\n",
    "\n",
    "# Check missing values\n",
    "print(ptsd_df[pre_int].isna().sum())\n",
    "print(ptsd_df[post_int].isna().sum())\n",
    "\n",
    "# Remove rows with missing values\n",
    "df_clean = ptsd_df[[pre_int, post_int]].dropna()\n",
    "\n",
    "# Summary statistics\n",
    "pre_stats = df_clean[pre_int].describe()\n",
    "post_stats = df_clean[post_int].describe()\n",
    "\n",
    "print(pre_stats)\n",
    "print(post_stats)\n",
    "\n",
    "# Paired t-test (using your stats import)\n",
    "t_statistic, p_value = stats.ttest_rel(df_clean[pre_int], df_clean[post_int])\n",
    "\n",
    "print(f\"t-statistic: {t_statistic}\")\n",
    "print(f\"p-value: {p_value}\")"
   ]
  },
  {
   "cell_type": "markdown",
   "id": "891b8f8a-07d0-4f44-b024-f13cd8ed5e3f",
   "metadata": {},
   "source": [
    "### Q2.2. Multiple Linear Regression (7')\n",
    "\n",
    "<font size='4'>\n",
    "\n",
    "- Select columns specified in the following code chunk and create a subset dataset named `ptsd_sub_df`.\n",
    "- Fit a linear regression to examine the association between `caps_intake` (continuous outcome) and the remaining covariates (as predictors) using `ptsd_sub_df`.\n",
    "    - Note that all covariates ending with `_code` are categorical variables.\n",
    "- Use the instruction here to write the formula for linear regression in Python.\n",
    "    - https://www.statsmodels.org/stable/example_formulas.html\n",
    "- Report the output page including R2, adjusted R2, and parameter estimates, SE, 95% confidence intervals, and p-values.\n",
    "- Provide a brief interpretation for all significant predictors (p<0.05) excluding the intercept.\n",
    "- Relevant label information includes:\n",
    "    - `employment_code`: 1: Employed, 2: Unemployed, 3: Retired, 4: Disabled/Unable to work, 5: Student, 6: Other.\n",
    "    - `rank_code`: 1. Enlisted, 2: Officer, 3: Other"
   ]
  },
  {
   "cell_type": "code",
   "execution_count": 22,
   "id": "2865a71e-6c03-4c83-9a31-38e01075ab97",
   "metadata": {},
   "outputs": [
    {
     "name": "stdout",
     "output_type": "stream",
     "text": [
      "Missing values in subset: caps_intake           0\n",
      "age_iop               0\n",
      "gender_code           0\n",
      "sexualorient_code     0\n",
      "race_code             0\n",
      "ethnicity_code        0\n",
      "education_code        0\n",
      "employment_code       0\n",
      "rank_code             0\n",
      "branch_code           0\n",
      "mdd_code              0\n",
      "ctq_total_score      35\n",
      "sexual_trauma         0\n",
      "sud_code              0\n",
      "dtype: int64\n",
      "\n",
      "Rows after removing missing values: 448\n"
     ]
    }
   ],
   "source": [
    "# The following column names are used for linear regression.\n",
    "# Do not delete.\n",
    "relevant_col_names = ['caps_intake', 'age_iop', 'gender_code', 'sexualorient_code', 'race_code', 'ethnicity_code', \n",
    "                      'education_code', 'employment_code',\n",
    "                      'rank_code', 'branch_code', 'mdd_code', 'ctq_total_score', 'sexual_trauma', 'sud_code']\n",
    "# Create subset dataset\n",
    "ptsd_sub_df = ptsd_df[relevant_col_names].copy()\n",
    "\n",
    "# Check for missing values\n",
    "print(\"Missing values in subset:\", \n",
    "      ptsd_sub_df.isna().sum())\n",
    "\n",
    "# Remove rows with missing values\n",
    "ptsd_sub_df_clean = ptsd_sub_df.dropna()\n",
    "print(f\"\\nRows after removing missing values: {len(ptsd_sub_df_clean)}\")"
   ]
  },
  {
   "cell_type": "code",
   "execution_count": 19,
   "id": "20eba4dd-df71-4a5d-b0b9-a12640f35ebe",
   "metadata": {
    "scrolled": true
   },
   "outputs": [
    {
     "name": "stdout",
     "output_type": "stream",
     "text": [
      "\n",
      "Categorical variables: ['gender_code', 'sexualorient_code', 'race_code', 'ethnicity_code', 'education_code', 'employment_code', 'rank_code', 'branch_code', 'mdd_code', 'sud_code']\n",
      "\n",
      "================================================================================\n",
      "LINEAR REGRESSION RESULTS\n",
      "================================================================================\n",
      "                            OLS Regression Results                            \n",
      "==============================================================================\n",
      "Dep. Variable:            caps_intake   R-squared:                       0.114\n",
      "Model:                            OLS   Adj. R-squared:                  0.051\n",
      "Method:                 Least Squares   F-statistic:                     1.796\n",
      "Date:                Tue, 28 Oct 2025   Prob (F-statistic):            0.00697\n",
      "Time:                        23:30:55   Log-Likelihood:                -1569.0\n",
      "No. Observations:                 448   AIC:                             3200.\n",
      "Df Residuals:                     417   BIC:                             3327.\n",
      "Df Model:                          30                                         \n",
      "Covariance Type:            nonrobust                                         \n",
      "=============================================================================================\n",
      "                                coef    std err          t      P>|t|      [0.025      0.975]\n",
      "---------------------------------------------------------------------------------------------\n",
      "Intercept                    39.2629      2.721     14.427      0.000      33.913      44.612\n",
      "C(gender_code)[T.2]          -1.5582      1.131     -1.378      0.169      -3.781       0.665\n",
      "C(sexualorient_code)[T.2]     1.8247      1.993      0.915      0.361      -2.094       5.743\n",
      "C(sexualorient_code)[T.3]     1.8012      2.098      0.859      0.391      -2.323       5.925\n",
      "C(race_code)[T.2]             0.5325      1.044      0.510      0.610      -1.520       2.585\n",
      "C(race_code)[T.3]            -3.2892      2.794     -1.177      0.240      -8.780       2.202\n",
      "C(race_code)[T.4]             3.2360      5.127      0.631      0.528      -6.842      13.314\n",
      "C(race_code)[T.5]            -2.8901      2.754     -1.049      0.295      -8.305       2.524\n",
      "C(race_code)[T.6]            -3.5467      1.973     -1.798      0.073      -7.425       0.332\n",
      "C(ethnicity_code)[T.2]       -2.8840      1.567     -1.840      0.066      -5.965       0.197\n",
      "C(ethnicity_code)[T.3]       -2.5163      2.285     -1.101      0.271      -7.007       1.975\n",
      "C(education_code)[T.2]       -1.3596      0.920     -1.478      0.140      -3.168       0.449\n",
      "C(education_code)[T.3]        4.2987      4.613      0.932      0.352      -4.770      13.367\n",
      "C(employment_code)[T.2]      -0.2737      1.099     -0.249      0.803      -2.433       1.886\n",
      "C(employment_code)[T.3]      -0.4364      1.720     -0.254      0.800      -3.817       2.944\n",
      "C(employment_code)[T.4]       2.7408      1.251      2.191      0.029       0.282       5.200\n",
      "C(employment_code)[T.5]      -1.6961      1.648     -1.029      0.304      -4.936       1.544\n",
      "C(employment_code)[T.6]      -2.0150      2.263     -0.890      0.374      -6.463       2.433\n",
      "C(rank_code)[T.2]            -3.0559      1.332     -2.295      0.022      -5.673      -0.438\n",
      "C(rank_code)[T.3]            -2.4901      3.775     -0.660      0.510      -9.911       4.931\n",
      "C(branch_code)[T.2]           0.1795      1.280      0.140      0.889      -2.337       2.696\n",
      "C(branch_code)[T.3]           0.9760      1.452      0.672      0.502      -1.878       3.830\n",
      "C(branch_code)[T.4]          -2.2104      1.513     -1.461      0.145      -5.185       0.764\n",
      "C(branch_code)[T.5]          -0.4553      3.221     -0.141      0.888      -6.787       5.876\n",
      "C(branch_code)[T.6]           1.7423      2.017      0.864      0.388      -2.223       5.708\n",
      "C(branch_code)[T.7]          -3.1169      3.891     -0.801      0.424     -10.766       4.532\n",
      "C(mdd_code)[T.1]              1.3699      0.906      1.513      0.131      -0.410       3.150\n",
      "C(sud_code)[T.1]             -0.5408      1.281     -0.422      0.673      -3.059       1.977\n",
      "age_iop                      -0.0390      0.053     -0.733      0.464      -0.144       0.066\n",
      "ctq_total_score               0.0417      0.020      2.115      0.035       0.003       0.081\n",
      "sexual_trauma                 1.2598      1.157      1.089      0.277      -1.015       3.535\n",
      "==============================================================================\n",
      "Omnibus:                        1.706   Durbin-Watson:                   1.836\n",
      "Prob(Omnibus):                  0.426   Jarque-Bera (JB):                1.767\n",
      "Skew:                           0.116   Prob(JB):                        0.413\n",
      "Kurtosis:                       2.798   Cond. No.                         931.\n",
      "==============================================================================\n",
      "\n",
      "Notes:\n",
      "[1] Standard Errors assume that the covariance matrix of the errors is correctly specified.\n"
     ]
    }
   ],
   "source": [
    "# Write your own code\n",
    "#Convert categorical variables to category type\n",
    "categorical_vars = ['gender_code', 'sexualorient_code', 'race_code', 'ethnicity_code', \n",
    "                    'education_code', 'employment_code', 'rank_code', 'branch_code', \n",
    "                    'mdd_code', 'sud_code']\n",
    "\n",
    "for var in categorical_vars:\n",
    "    ptsd_sub_df_clean.loc[:, var] = ptsd_sub_df_clean[var].astype('category')\n",
    "\n",
    "print(f\"\\nCategorical variables: {categorical_vars}\")\n",
    "\n",
    "# Fit linear regression using statsmodels formula\n",
    "# C() indicates categorical variables\n",
    "formula = '''caps_intake ~ age_iop + C(gender_code) + C(sexualorient_code) + C(race_code) + \n",
    "             C(ethnicity_code) + C(education_code) + C(employment_code) + C(rank_code) + \n",
    "             C(branch_code) + C(mdd_code) + ctq_total_score + sexual_trauma + C(sud_code)'''\n",
    "\n",
    "# Fit the model\n",
    "model = smf.ols(formula=formula, data=ptsd_sub_df_clean).fit()\n",
    "\n",
    "# Display full output\n",
    "print(\"\\n\" + \"=\"*80)\n",
    "print(\"LINEAR REGRESSION RESULTS\")\n",
    "print(\"=\"*80)\n",
    "print(model.summary())\n"
   ]
  },
  {
   "cell_type": "markdown",
   "id": "406bf148-0e60-4134-b21f-8f0188fe6ef6",
   "metadata": {},
   "source": [
    "# Write your interpretations below:\n",
    "Only three predictors are found to have significant (p<0.05) values: \n",
    "1. C(employment_code)[T.4] (p = 0.029)\n",
    "2. C(rank_code)[T.2] (p = 0.022)\n",
    "3. ctq_total_score (p = 0.035)\n",
    "\n",
    "\n",
    "Interpretations:\n",
    "1. Compared to Employed individuals, those who are Disabled/Unable to work have 2.74 points higher CAPS intake scores on average, holding other variables constant. This suggests greater PTSD symptom severity among those unable to work due to disability.\n",
    "2. Compared to Enlisted personnel, Officers have 3.06 points lower CAPS intake scores on average, holding other variables constant. Officers report less severe PTSD symptoms than Enlisted personnel.\n",
    "3. For each 1-point increase in CTQ total score (childhood trauma), CAPS intake score increases by 0.042 points, holding other variables constant. Higher childhood trauma is associated with more severe PTSD symptoms at intake."
   ]
  }
 ],
 "metadata": {
  "kernelspec": {
   "display_name": "Python 3 (ipykernel)",
   "language": "python",
   "name": "python3"
  },
  "language_info": {
   "codemirror_mode": {
    "name": "ipython",
    "version": 3
   },
   "file_extension": ".py",
   "mimetype": "text/x-python",
   "name": "python",
   "nbconvert_exporter": "python",
   "pygments_lexer": "ipython3",
   "version": "3.13.7"
  }
 },
 "nbformat": 4,
 "nbformat_minor": 5
}

{
 "cells": [
  {
   "metadata": {},
   "cell_type": "markdown",
   "source": "# Week 07: NumPy Arrays (Cont'ed)",
   "id": "cf1e18d46612c38b"
  },
  {
   "metadata": {},
   "cell_type": "markdown",
   "source": "## 0. Import Libraries ",
   "id": "48397866b294d99e"
  },
  {
   "metadata": {},
   "cell_type": "code",
   "outputs": [],
   "execution_count": null,
   "source": [
    "# the \"pandas\" library is for manipualting datasets\n",
    "import pandas as pd\n",
    "import numpy as np\n",
    "import matplotlib.pyplot as plt\n",
    "np.random.seed(100)"
   ],
   "id": "1a7404c9e734344d"
  },
  {
   "metadata": {},
   "cell_type": "markdown",
   "source": "## 1. Broadcasting",
   "id": "986249f6c5069774"
  },
  {
   "metadata": {},
   "cell_type": "code",
   "outputs": [],
   "execution_count": null,
   "source": [
    "# 1.1.Initialize a 3x4 array of ones and assign it to the variable `x`\n",
    "x = np.ones([3,4])\n"
   ],
   "id": "8bcc715f92b4c87d"
  },
  {
   "metadata": {},
   "cell_type": "code",
   "outputs": [],
   "execution_count": null,
   "source": [
    "# 1.2. Initialize `x` and `y`\n",
    "x = np.ones((3,4))\n",
    "y = np.random.random((5,1,4))\n"
   ],
   "id": "6d27443f501a3727"
  },
  {
   "metadata": {},
   "cell_type": "code",
   "outputs": [],
   "execution_count": null,
   "source": [
    "# 1.3. Initialize `x` and `y`\n",
    "x = np.ones((3,4))\n",
    "y = np.random.random((5,2,4))\n"
   ],
   "id": "d8118d2eeb029294"
  },
  {
   "metadata": {},
   "cell_type": "code",
   "outputs": [],
   "execution_count": null,
   "source": [
    "# 1.4. Initialize arrays\n",
    "x = np.array([[1, 2, 3], [3, 4, 5]])\n",
    "y = np.array([6, 7, 8])\n"
   ],
   "id": "d4a519aa9e0b49e6"
  },
  {
   "metadata": {},
   "cell_type": "code",
   "outputs": [],
   "execution_count": null,
   "source": [
    "# 1.5. Initialize arrays\n",
    "a = np.array([1, 1, 0, 0], dtype=bool)\n",
    "b = np.array([1, 0, 1, 0], dtype=bool)\n"
   ],
   "id": "3f88d361aff94ef8"
  },
  {
   "metadata": {},
   "cell_type": "markdown",
   "source": "## 2. Subsetting",
   "id": "eab4763e938a5344"
  },
  {
   "metadata": {},
   "cell_type": "code",
   "outputs": [],
   "execution_count": null,
   "source": [
    "# 2.1. Initialize 1D array\n",
    "my_array = np.array([1,2,3,4])\n",
    "\n",
    "# Print subsets\n",
    "print(my_array[1])"
   ],
   "id": "8d3eb1c40e56312"
  },
  {
   "metadata": {},
   "cell_type": "code",
   "outputs": [],
   "execution_count": null,
   "source": [
    "# 2.2. Initialize 2D array\n",
    "my_2d_array = np.array([[1,2,3,4], [5,6,7,8]], dtype=np.int64)\n"
   ],
   "id": "f7582b49bea39201"
  },
  {
   "metadata": {},
   "cell_type": "code",
   "outputs": [],
   "execution_count": null,
   "source": [
    "# 2.3. Initialize 3D array\n",
    "my_3d_array = np.array([[[1,2,3,4], [5,6,7,8]], [[1,2,3,4], [9,10,11,12]]], dtype=np.int64)\n",
    "print(my_3d_array)\n"
   ],
   "id": "a54495b3af6ad122"
  },
  {
   "metadata": {},
   "cell_type": "markdown",
   "source": "## 3. Slicing",
   "id": "b4dd716b9901f195"
  },
  {
   "metadata": {},
   "cell_type": "code",
   "outputs": [],
   "execution_count": null,
   "source": [
    "# 3.1. Initialize 1D array\n",
    "my_array = np.array([1,2,3,4])\n"
   ],
   "id": "fd42a4abeb3bc3c4"
  },
  {
   "metadata": {},
   "cell_type": "code",
   "outputs": [],
   "execution_count": null,
   "source": [
    "# 3.2. Initialize 2D array\n",
    "my_2d_array = np.array([[1,2,3,4], [5,6,7,8]], dtype=np.int64)\n"
   ],
   "id": "b6fd7589dcea70c8"
  },
  {
   "metadata": {},
   "cell_type": "code",
   "outputs": [],
   "execution_count": null,
   "source": "# 3.3. the entire second row\n",
   "id": "87071da9592efc0b"
  },
  {
   "metadata": {},
   "cell_type": "code",
   "outputs": [],
   "execution_count": null,
   "source": [
    "# 3.4. Initialize 3D array\n",
    "my_3d_array = np.array([[[1,2,3,4], [5,6,7,8]], [[1,2,3,4], [9,10,11,12]]], dtype=np.int64)\n",
    "\n",
    "# Print subset\n",
    "# We use : to select all elements along one dimension.\n",
    "# We use ... to select all elements along more than or equal to two dimensions."
   ],
   "id": "b0f59d0dfbe8e3d"
  },
  {
   "metadata": {},
   "cell_type": "markdown",
   "source": "## 4. Indexing",
   "id": "7f65d2af82956614"
  },
  {
   "metadata": {},
   "cell_type": "code",
   "outputs": [],
   "execution_count": null,
   "source": [
    "# 4.1. Boolean indexing\n",
    "my_array = np.array([1,2,3,4])\n",
    "my_3d_array = np.array([[[1,2,3,4], [5,6,7,8]], [[1,2,3,4], [9,10,11,12]]], dtype=np.int64)\n",
    "\n",
    "# Try out a simple example\n",
    "\n",
    "\n",
    "# Specify a condition\n",
    "\n",
    "\n",
    "# Use the condition to index our 3d array\n"
   ],
   "id": "451fd38cd4b0517c"
  },
  {
   "metadata": {},
   "cell_type": "code",
   "outputs": [],
   "execution_count": null,
   "source": [
    "# 4.2. Fancy indexing (optional)\n",
    "my_array = np.array([1,2,3,4])\n",
    "my_2d_array = np.array([[1,2,3,4], [5,6,7,8]], dtype=np.int64)\n",
    "my_3d_array = np.array([[[1,2,3,4], [5,6,7,8]], [[1,2,3,4], [9,10,11,12]]], dtype=np.int64)\n",
    "\n",
    "# Select elements at (1,0), (0,1), (1,2) and (0,0)\n",
    "print(my_2d_array)\n",
    "print()\n",
    "# In this case, it is reduced to a 1-dim array\n"
   ],
   "id": "c2485a8401f53780"
  },
  {
   "metadata": {},
   "cell_type": "code",
   "outputs": [],
   "execution_count": null,
   "source": "# 4.3. Select a subset of the rows and columns\n",
   "id": "74a79ebfb832e6c5"
  },
  {
   "metadata": {},
   "cell_type": "code",
   "outputs": [],
   "execution_count": null,
   "source": [
    "# 4.4. Select a subset of the rows and columns\n",
    "# What the second part, namely, [:,[0,1,2,0]], is tell you that \n",
    "# you want to keep all the rows of this result, \n",
    "# but that you want to change the order of the columns around a bit. \n",
    "# You want to display the columns 0, 1, and 2 as they are right now, \n",
    "# but you want to repeat column 0 as the last column instead of displaying column number 3.\n"
   ],
   "id": "ee4361a958f51f2a"
  },
  {
   "metadata": {},
   "cell_type": "markdown",
   "source": [
    "## 5. Transpose\n",
    "\n",
    "<font size='4'>\n",
    "\n",
    "- Transpose refers to permute the dimensions of the original array.\n",
    "- `np.transpose()` or `.T`"
   ],
   "id": "26ec7347b512b8bf"
  },
  {
   "metadata": {},
   "cell_type": "code",
   "outputs": [],
   "execution_count": null,
   "source": [
    "# 5.1\n",
    "my_2d_array = np.array([[1,2,3,4], [5,6,7,8]], dtype=np.int64)\n",
    "\n",
    "# Print `my_2d_array`\n",
    "\n",
    "# Transpose `my_2d_array`\n",
    "\n",
    "# Or use `T` to transpose `my_2d_array`\n"
   ],
   "id": "51b17fc612ed8ffb"
  },
  {
   "metadata": {},
   "cell_type": "markdown",
   "source": [
    "<font size='4'>\n",
    "- What if we transpose a 1-dim array?"
   ],
   "id": "746e641620684472"
  },
  {
   "metadata": {},
   "cell_type": "code",
   "outputs": [],
   "execution_count": null,
   "source": [
    "# 5.2\n",
    "my_array = np.array([1,2,3,4])\n",
    "print(my_array)\n",
    "print()\n",
    "# Transpose `my_2d_array\n",
    "\n",
    "# Or use `T` to transpose `my_2d_array\n"
   ],
   "id": "bb8c0c73c5a83771"
  },
  {
   "metadata": {},
   "cell_type": "markdown",
   "source": [
    "## 6. Resize and Reshape\n",
    "<font size='4'>\n",
    "\n",
    "- Use `np.resize()` to modify the dimensions of the old array to make it compatible.\n",
    "- Two usages:\n",
    "- `arr_new = np.resize(arr_old, new_shape)`: Additional portion filled with copies of the original array\n",
    "- `arr_old.resize(new_shape)`: Additional portion filled with zeros (**No need to assign it to a new name**)"
   ],
   "id": "be3af6b3ff294823"
  },
  {
   "metadata": {},
   "cell_type": "code",
   "outputs": [],
   "execution_count": null,
   "source": [
    "# 6.1.\n",
    "x = np.random.random(size=(2,4))\n",
    "\n",
    "# Print the shape of `x`\n",
    "\n",
    "# Resize `x` to ((6,4))\n",
    "\n",
    "# Try out this as well\n",
    "\n",
    "# Print out `x`\n"
   ],
   "id": "3b60220de65b8642"
  },
  {
   "metadata": {},
   "cell_type": "markdown",
   "source": [
    "<font size='4'>\n",
    "\n",
    "- Reshape, on the other hand, assigns a new shape to an array without changing its data.\n",
    "- The total size of the new array is unchanged.\n",
    "    - Use `arr.size` to export the size.\n",
    "    - This is an **attribute**, so no round brackets after it because we cannot modify it."
   ],
   "id": "f2f44cd2bd4e1e44"
  },
  {
   "metadata": {},
   "cell_type": "code",
   "outputs": [],
   "execution_count": null,
   "source": [
    "# 6.2. Initialize array with a size of 8.\n",
    "x = np.random.random(size=8)\n"
   ],
   "id": "65388a043670b415"
  },
  {
   "metadata": {},
   "cell_type": "markdown",
   "source": "## 7. Append",
   "id": "9ca873d306ebfc0d"
  },
  {
   "metadata": {},
   "cell_type": "markdown",
   "source": [
    "<font size='4'>\n",
    "\n",
    "- Similar to a list, you can append an array to the original one.\n",
    "- The new array is \"glued\" to the end of that original array.\n",
    "- General syntax: `arr_new = np.append(arr_old, small_arr_new, axis=axis_num)`.\n",
    "    - Note that the axis option makes a difference!\n",
    "- The following example can help you understand the role of `axis`.\n",
    "- <span style=\"color: red;\">From now on, you will start to do perform arithmetics along a certain **axis**.</span>\n",
    "- This may sound confusing in the first place. But you should be able to understand the fundamental principles through examples and HW."
   ],
   "id": "b42f60fd0f5551d0"
  },
  {
   "metadata": {},
   "cell_type": "code",
   "outputs": [],
   "execution_count": null,
   "source": [
    "# 7.1.\n",
    "my_array = np.array([1,2,3,4])\n",
    "print(my_array)\n",
    "print()\n",
    "# Append a 1D array to `my_array`\n",
    "\n",
    "# Print `new_array`\n",
    "\n",
    "# Print `my_array` after appending\n"
   ],
   "id": "8ba047b7e81f17a3"
  },
  {
   "metadata": {},
   "cell_type": "code",
   "outputs": [],
   "execution_count": null,
   "source": [
    "# 7.2.\n",
    "my_array = np.array([[1,2,3,4], [5,6,7,8]])\n",
    "\n",
    "# Print `new_array`\n"
   ],
   "id": "14546425f08b3d96"
  },
  {
   "metadata": {},
   "cell_type": "code",
   "outputs": [],
   "execution_count": null,
   "source": [
    "# 7.3. Your input arrays have to have the same structure. my_array is 2-dim array, while [9, 10, 11, 12] is a 1-dim array.\n",
    "# They are NOT compatible, so they cannot be appended on axis=0.\n",
    "\n",
    "# Print `new_array`\n"
   ],
   "id": "164805a024fc6f9"
  },
  {
   "metadata": {},
   "cell_type": "code",
   "outputs": [],
   "execution_count": null,
   "source": [
    "# 7.4. Your input arrays have to have the same structure. my_array is 2-dim array, while [9, 10, 11, 12] is a 1-dim array.\n",
    "# They are NOT compatible, so they cannot be appended on axis=1.\n",
    "\n",
    "# Print `new_array`\n"
   ],
   "id": "cdef73317c8806d7"
  },
  {
   "metadata": {},
   "cell_type": "code",
   "outputs": [],
   "execution_count": null,
   "source": [
    "# 7.5. One exception is when axis=None. It forces all input arrays to be 1d and concatenated together.\n",
    "\n",
    "# Print `new_array`\n"
   ],
   "id": "70b1ed22232e048b"
  },
  {
   "metadata": {},
   "cell_type": "code",
   "outputs": [],
   "execution_count": null,
   "source": [
    "# 7.6.\n",
    "\n",
    "# Print `new_array`\n"
   ],
   "id": "acb560cb85c29eba"
  },
  {
   "metadata": {},
   "cell_type": "code",
   "outputs": [],
   "execution_count": null,
   "source": [
    "# 7.7\n",
    "\n",
    "# Print `new_array`\n"
   ],
   "id": "6956c5df5745b390"
  },
  {
   "metadata": {},
   "cell_type": "code",
   "outputs": [],
   "execution_count": null,
   "source": [
    "# 7.8\n",
    "\n",
    "# Print `new_array`\n"
   ],
   "id": "ac45e6367aacda15"
  },
  {
   "metadata": {},
   "cell_type": "code",
   "outputs": [],
   "execution_count": null,
   "source": [
    "# 7.9\n",
    "\n",
    "# Print `new_array`\n"
   ],
   "id": "426ed0e81bedc2f2"
  },
  {
   "metadata": {},
   "cell_type": "markdown",
   "source": [
    "## 8. Insert and Delete\n",
    "\n",
    "<font size='4'>\n",
    "\n",
    "- `np.insert(arr, obj, values, axis=None)`\n",
    "- `np.delete(arr, obj, axis=None)`\n",
    "- `obj` is sort of an index location, which supports slicing, int, numpy array, and boolean."
   ],
   "id": "c04a3a79adada51"
  },
  {
   "metadata": {},
   "cell_type": "code",
   "outputs": [],
   "execution_count": null,
   "source": [
    "# 8.1.\n",
    "my_array = np.array([1,2,3,4])\n",
    "print(my_array)\n",
    "print()\n",
    "# Insert `5` at index 1\n",
    "\n",
    "# Delete the value at index 1\n"
   ],
   "id": "5cb09a3032116b30"
  },
  {
   "metadata": {},
   "cell_type": "code",
   "outputs": [],
   "execution_count": null,
   "source": [
    "# 8.2.\n",
    "my_2d_array = np.array([[1,2,3,4], [5,6,7,8]], dtype=np.float64)\n",
    "print(my_2d_array)\n",
    "print()"
   ],
   "id": "a2655683d7fdfead"
  },
  {
   "metadata": {},
   "cell_type": "code",
   "outputs": [],
   "execution_count": null,
   "source": [
    "# 8.3.\n",
    "# print(my_2d_array_2)\n",
    "print()\n",
    "# print(my_2d_array_3)"
   ],
   "id": "a60cbdff35d53499"
  },
  {
   "metadata": {},
   "cell_type": "code",
   "outputs": [],
   "execution_count": null,
   "source": [
    "# 8.4.\n",
    "# print(my_2d_array_2)\n",
    "print()\n",
    "# print(my_2d_array_3)\n",
    "print()\n",
    "# print(my_2d_array_3)"
   ],
   "id": "82f45582af36f290"
  },
  {
   "metadata": {},
   "cell_type": "markdown",
   "source": [
    "## 9. Join and split arrays\n",
    "\n",
    "<font size='4'>\n",
    "    "
   ],
   "id": "24a3147b277fb47e"
  },
  {
   "metadata": {},
   "cell_type": "code",
   "outputs": [],
   "execution_count": null,
   "source": [
    "# 9.1.\n",
    "x = np.ones((4,))\n",
    "print(x)\n",
    "print()\n",
    "my_array = np.array([1,2,3,4])\n",
    "my_resized_array=np.resize(my_array,(2,4))\n",
    "my_2d_array = np.array([[1,2,3,4], [5,6,7,8]], dtype=np.int64)\n",
    "\n",
    "# Concatentate `my_array` and `x`\n"
   ],
   "id": "558abf9a76ef2640"
  },
  {
   "metadata": {},
   "cell_type": "code",
   "outputs": [],
   "execution_count": null,
   "source": "# 9.2. Stack arrays row-wise\n",
   "id": "ef0c383413183929"
  },
  {
   "metadata": {},
   "cell_type": "code",
   "outputs": [],
   "execution_count": null,
   "source": [
    "# 9.3.\n",
    "my_array = np.array([1,2,3,4])\n",
    "my_resized_array=np.resize(my_array,(2,4))\n",
    "my_2d_array = np.array([[1,2,3,4], [5,6,7,8]], dtype=np.int64)\n",
    "\n",
    "# if the second argument is an integer, it will split the array into an N equal sub-arrays\n",
    "# Split `my_stacked_array` horizontally into two equal sub-arrays\n",
    "\n",
    "# Split `my_stacked_array` vertically into two equal sub-arrays\n"
   ],
   "id": "d7d63d6877588359"
  },
  {
   "metadata": {},
   "cell_type": "code",
   "outputs": [],
   "execution_count": null,
   "source": "# 9.4. Use indices in the form of a numpy array\n",
   "id": "b75eb9d8e87c196c"
  },
  {
   "metadata": {},
   "cell_type": "markdown",
   "source": [
    "## 10. Visualize NumPy Arrays\n",
    "<font size='4'>\n",
    "\n",
    "- `np.hist()` or `np.histogram()`\n",
    "- Scatter plot (One continuous vs another continuous)\n",
    "- `np.meshgrid()` (HW7)"
   ],
   "id": "533c81efb24523b9"
  },
  {
   "metadata": {},
   "cell_type": "code",
   "outputs": [],
   "execution_count": null,
   "source": [
    "# Create an array\n",
    "points = np.arange(-5, 5, 0.01)\n",
    "\n",
    "# Make a meshgrid\n",
    "xs, ys = np.meshgrid(points, points)\n",
    "z = np.sqrt(xs ** 2 + ys ** 2)\n",
    "\n",
    "# Display the image on the axes\n",
    "plt.imshow(z, cmap=plt.cm.gray)\n",
    "\n",
    "# Draw a color bar\n",
    "plt.colorbar()\n",
    "\n",
    "# Show the plot\n",
    "plt.show()"
   ],
   "id": "52f0967c83ec34fc"
  }
 ],
 "metadata": {},
 "nbformat": 4,
 "nbformat_minor": 5
}

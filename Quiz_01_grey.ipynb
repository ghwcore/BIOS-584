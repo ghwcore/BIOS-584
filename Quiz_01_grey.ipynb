{
 "cells": [
  {
   "cell_type": "markdown",
   "id": "f63a4b6d-1482-4927-9fec-02c777cfd9bb",
   "metadata": {},
   "source": [
    "grey won\n",
    "quiz 01"
   ]
  },
  {
   "cell_type": "code",
   "execution_count": 15,
   "id": "6c34132f-71a2-46ea-944c-5e3deb931ab6",
   "metadata": {},
   "outputs": [
    {
     "name": "stdout",
     "output_type": "stream",
     "text": [
      "['cat1', 'cat1', 'cat1', 'cat2']\n"
     ]
    }
   ],
   "source": [
    "#first list\n",
    "list_cats = ['cat1', 'cat1', 'cat1']\n",
    "list_cats.append('cat2')\n",
    "print(list_cats)"
   ]
  },
  {
   "cell_type": "code",
   "execution_count": 16,
   "id": "185dc5d7-1ac2-4565-98d1-92b1b40a44ec",
   "metadata": {},
   "outputs": [
    {
     "name": "stdout",
     "output_type": "stream",
     "text": [
      "[]\n"
     ]
    }
   ],
   "source": [
    "#second list\n",
    "#clear list\n",
    "list_cats_ii = ['cat1', 'cat1', 'cat1']\n",
    "list_cats_ii.clear()\n",
    "print(list_cats_ii)"
   ]
  },
  {
   "cell_type": "code",
   "execution_count": 17,
   "id": "a0d0eb4e-e7ae-4ba9-b6d1-c38c11a557b5",
   "metadata": {},
   "outputs": [
    {
     "name": "stdout",
     "output_type": "stream",
     "text": [
      "['cat1', 'cat1', 'cat1']\n"
     ]
    }
   ],
   "source": [
    "#third list\n",
    "#copy list\n",
    "list_cats_iii = ['cat1', 'cat1', 'cat1']\n",
    "print(list_cats_iii.copy())"
   ]
  },
  {
   "cell_type": "code",
   "execution_count": 18,
   "id": "9db3fd7a-8721-478d-afa4-b9032f8a140b",
   "metadata": {},
   "outputs": [
    {
     "name": "stdout",
     "output_type": "stream",
     "text": [
      "2\n"
     ]
    }
   ],
   "source": [
    "#fourth list\n",
    "#count number of cats\n",
    "list_cats_iv = ['cat1', 'cat1', 'cat2']\n",
    "print(list_cats_iv.count('cat1'))"
   ]
  },
  {
   "cell_type": "code",
   "execution_count": 19,
   "id": "98e190b3-3592-4139-98a0-ef5490459cb0",
   "metadata": {},
   "outputs": [
    {
     "name": "stdout",
     "output_type": "stream",
     "text": [
      "2\n"
     ]
    }
   ],
   "source": [
    "#fifth list\n",
    "#find location of cat2\n",
    "list_cats_v = ['cat1', 'cat1', 'cat2']\n",
    "print(list_cats_v.index('cat2'))"
   ]
  },
  {
   "cell_type": "code",
   "execution_count": 24,
   "id": "26775906-e793-43d6-8d63-0756571cdf7e",
   "metadata": {},
   "outputs": [
    {
     "name": "stdout",
     "output_type": "stream",
     "text": [
      "['cat1', 'cat2', 'cat1', 'cat2']\n"
     ]
    }
   ],
   "source": [
    "#sixth list\n",
    "#insert cat2 at position 1\n",
    "list_cats_vi = ['cat1', 'cat1', 'cat2']\n",
    "list_cats_vi.insert(1, 'cat2')\n",
    "print(list_cats_vi)"
   ]
  },
  {
   "cell_type": "code",
   "execution_count": 11,
   "id": "8867d729-52a2-4910-b5d7-7eaa8a2d406d",
   "metadata": {},
   "outputs": [
    {
     "name": "stdout",
     "output_type": "stream",
     "text": [
      "cat2\n",
      "['cat1', 'cat1']\n"
     ]
    }
   ],
   "source": [
    "#seventh list\n",
    "#pop position 2 from the list\n",
    "list_cats_vii = ['cat1', 'cat1', 'cat2']\n",
    "print(list_cats_vii.pop(2))\n",
    "print(list_cats_vii)"
   ]
  },
  {
   "cell_type": "code",
   "execution_count": 13,
   "id": "8d16beed-78ba-4c76-b6ce-fa6639f85220",
   "metadata": {},
   "outputs": [
    {
     "name": "stdout",
     "output_type": "stream",
     "text": [
      "['cat1', 'cat1']\n"
     ]
    }
   ],
   "source": [
    "#eighth list\n",
    "#remove first cat2 from the list\n",
    "list_cats_viii = ['cat1', 'cat1', 'cat2']\n",
    "list_cats_viii.remove('cat2')\n",
    "print(list_cats_viii)"
   ]
  },
  {
   "cell_type": "code",
   "execution_count": 14,
   "id": "0c020a44-77a7-403a-a6a5-bd6707bdb58b",
   "metadata": {},
   "outputs": [
    {
     "name": "stdout",
     "output_type": "stream",
     "text": [
      "['cat2', 'cat1', 'cat1']\n"
     ]
    }
   ],
   "source": [
    "#ninth list\n",
    "#reverse order of list\n",
    "list_cats_ix = ['cat1', 'cat1', 'cat2']\n",
    "list_cats_ix.reverse()\n",
    "print(list_cats_ix)"
   ]
  },
  {
   "cell_type": "code",
   "execution_count": null,
   "id": "72ce57b5-a9b5-40c5-a23e-0afa46b88eed",
   "metadata": {},
   "outputs": [],
   "source": []
  }
 ],
 "metadata": {
  "kernelspec": {
   "display_name": "Python 3 (ipykernel)",
   "language": "python",
   "name": "python3"
  },
  "language_info": {
   "codemirror_mode": {
    "name": "ipython",
    "version": 3
   },
   "file_extension": ".py",
   "mimetype": "text/x-python",
   "name": "python",
   "nbconvert_exporter": "python",
   "pygments_lexer": "ipython3",
   "version": "3.13.7"
  }
 },
 "nbformat": 4,
 "nbformat_minor": 5
}

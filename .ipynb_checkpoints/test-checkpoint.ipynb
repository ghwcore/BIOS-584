{
 "cells": [
  {
   "cell_type": "code",
   "execution_count": 1,
   "id": "c757f276-eaf6-49c8-847e-d9ed0ca0cca0",
   "metadata": {},
   "outputs": [
    {
     "name": "stdout",
     "output_type": "stream",
     "text": [
      "Welcome to BIOS-584!\n"
     ]
    }
   ],
   "source": [
    "print('Welcome to BIOS-584!')"
   ]
  },
  {
   "cell_type": "code",
   "execution_count": 20,
   "id": "14cab663-2d80-4dbe-ab40-b00fefb57d96",
   "metadata": {},
   "outputs": [],
   "source": [
    "#Practice list"
   ]
  },
  {
   "cell_type": "code",
   "execution_count": 9,
   "id": "af1c886c-8a14-422e-bb42-7b82f1af0485",
   "metadata": {},
   "outputs": [
    {
     "name": "stdout",
     "output_type": "stream",
     "text": [
      "['water', 'purgatory', 'sun', 'light magic']\n"
     ]
    }
   ],
   "source": [
    "list_enemies = ['water', 'purgatory', 'sun', 'light magic'] \n",
    "print(list_enemies)"
   ]
  },
  {
   "cell_type": "code",
   "execution_count": 10,
   "id": "818e0f6f-3141-41da-8f47-8627f24b7396",
   "metadata": {},
   "outputs": [
    {
     "name": "stdout",
     "output_type": "stream",
     "text": [
      "['water', 'purgatory', 'sun', 'light magic', 'sleep']\n"
     ]
    }
   ],
   "source": [
    "list_enemies.append('sleep')\n",
    "print(list_enemies)"
   ]
  },
  {
   "cell_type": "code",
   "execution_count": 12,
   "id": "9e286550-d731-43ac-af8f-ca40cfaf57ca",
   "metadata": {},
   "outputs": [
    {
     "data": {
      "text/plain": [
       "1"
      ]
     },
     "execution_count": 12,
     "metadata": {},
     "output_type": "execute_result"
    }
   ],
   "source": [
    "list_enemies.count('sun')"
   ]
  },
  {
   "cell_type": "code",
   "execution_count": 13,
   "id": "de9e2c5d-fb80-453a-9f73-d036b2e7789f",
   "metadata": {},
   "outputs": [
    {
     "data": {
      "text/plain": [
       "3"
      ]
     },
     "execution_count": 13,
     "metadata": {},
     "output_type": "execute_result"
    }
   ],
   "source": [
    "list_enemies.index('light magic')"
   ]
  },
  {
   "cell_type": "code",
   "execution_count": 14,
   "id": "e64b54f3-dce0-4ba3-9f0c-cc8b4d645f24",
   "metadata": {},
   "outputs": [],
   "source": [
    "list_enemies.insert(2, 'spicy food')"
   ]
  },
  {
   "cell_type": "code",
   "execution_count": 15,
   "id": "5addad65-f409-4c64-9d88-5d1e53fb04a1",
   "metadata": {},
   "outputs": [
    {
     "name": "stdout",
     "output_type": "stream",
     "text": [
      "['water', 'purgatory', 'spicy food', 'sun', 'light magic', 'sleep']\n"
     ]
    }
   ],
   "source": [
    "print(list_enemies)"
   ]
  },
  {
   "cell_type": "code",
   "execution_count": 17,
   "id": "a8a3fe70-0912-4b6b-a9d7-ca55965e4be8",
   "metadata": {},
   "outputs": [
    {
     "name": "stdout",
     "output_type": "stream",
     "text": [
      "['water', 'purgatory', 'spicy food', 'sun', 'light magic']\n"
     ]
    }
   ],
   "source": [
    "list_enemies.pop(5)\n",
    "print(list_enemies)"
   ]
  },
  {
   "cell_type": "code",
   "execution_count": 18,
   "id": "191e9ab1-8b36-451b-a293-447bd9d75b0a",
   "metadata": {},
   "outputs": [
    {
     "name": "stdout",
     "output_type": "stream",
     "text": [
      "['purgatory', 'spicy food', 'sun', 'light magic']\n"
     ]
    }
   ],
   "source": [
    "list_enemies.remove('water')\n",
    "print(list_enemies)"
   ]
  },
  {
   "cell_type": "code",
   "execution_count": 19,
   "id": "db9573ba-9dc6-4014-a6db-6e4e81a5c751",
   "metadata": {},
   "outputs": [
    {
     "name": "stdout",
     "output_type": "stream",
     "text": [
      "['light magic', 'sun', 'spicy food', 'purgatory']\n"
     ]
    }
   ],
   "source": [
    "list_enemies.reverse()\n",
    "print(list_enemies)"
   ]
  },
  {
   "cell_type": "code",
   "execution_count": 22,
   "id": "d205491b-e81a-43da-a7f4-1a88b931f98b",
   "metadata": {},
   "outputs": [
    {
     "name": "stdout",
     "output_type": "stream",
     "text": [
      "['light magic', 'sun', 'spicy food', 'purgatory']\n"
     ]
    }
   ],
   "source": [
    "list_enemies_02 = list_enemies.copy()\n",
    "print(list_enemies_02)"
   ]
  },
  {
   "cell_type": "code",
   "execution_count": 21,
   "id": "811cdb51-b52e-43af-9735-024a654c9088",
   "metadata": {},
   "outputs": [],
   "source": [
    "#end practice list"
   ]
  },
  {
   "cell_type": "code",
   "execution_count": null,
   "id": "22fc32b5-890a-4c46-92e3-fcc3a76d0bf8",
   "metadata": {},
   "outputs": [],
   "source": []
  }
 ],
 "metadata": {
  "kernelspec": {
   "display_name": "Python 3 (ipykernel)",
   "language": "python",
   "name": "python3"
  },
  "language_info": {
   "codemirror_mode": {
    "name": "ipython",
    "version": 3
   },
   "file_extension": ".py",
   "mimetype": "text/x-python",
   "name": "python",
   "nbconvert_exporter": "python",
   "pygments_lexer": "ipython3",
   "version": "3.13.7"
  }
 },
 "nbformat": 4,
 "nbformat_minor": 5
}

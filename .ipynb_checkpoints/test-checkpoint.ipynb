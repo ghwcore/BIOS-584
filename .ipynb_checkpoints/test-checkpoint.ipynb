{
 "cells": [
  {
   "cell_type": "code",
   "execution_count": 1,
   "id": "c757f276-eaf6-49c8-847e-d9ed0ca0cca0",
   "metadata": {},
   "outputs": [
    {
     "name": "stdout",
     "output_type": "stream",
     "text": [
      "Welcome to BIOS-584!\n"
     ]
    }
   ],
   "source": [
    "print('Welcome to BIOS-584!')"
   ]
  },
  {
   "cell_type": "code",
   "execution_count": 1,
   "id": "814441f7-7f41-45de-ac89-1d9631f718f1",
   "metadata": {},
   "outputs": [],
   "source": [
    "import os\n",
    "import numpy as np\n",
    "import pandas as pd\n",
    "import matplotlib.pyplot as plt\n",
    "import scipy.stats as stats"
   ]
  },
  {
   "cell_type": "code",
   "execution_count": 20,
   "id": "14cab663-2d80-4dbe-ab40-b00fefb57d96",
   "metadata": {},
   "outputs": [],
   "source": [
    "#Practice list"
   ]
  },
  {
   "cell_type": "code",
   "execution_count": 9,
   "id": "af1c886c-8a14-422e-bb42-7b82f1af0485",
   "metadata": {},
   "outputs": [
    {
     "name": "stdout",
     "output_type": "stream",
     "text": [
      "['water', 'purgatory', 'sun', 'light magic']\n"
     ]
    }
   ],
   "source": [
    "list_enemies = ['water', 'purgatory', 'sun', 'light magic'] \n",
    "print(list_enemies)"
   ]
  },
  {
   "cell_type": "code",
   "execution_count": 10,
   "id": "818e0f6f-3141-41da-8f47-8627f24b7396",
   "metadata": {},
   "outputs": [
    {
     "name": "stdout",
     "output_type": "stream",
     "text": [
      "['water', 'purgatory', 'sun', 'light magic', 'sleep']\n"
     ]
    }
   ],
   "source": [
    "list_enemies.append('sleep')\n",
    "print(list_enemies)"
   ]
  },
  {
   "cell_type": "code",
   "execution_count": 12,
   "id": "9e286550-d731-43ac-af8f-ca40cfaf57ca",
   "metadata": {},
   "outputs": [
    {
     "data": {
      "text/plain": [
       "1"
      ]
     },
     "execution_count": 12,
     "metadata": {},
     "output_type": "execute_result"
    }
   ],
   "source": [
    "list_enemies.count('sun')"
   ]
  },
  {
   "cell_type": "code",
   "execution_count": 13,
   "id": "de9e2c5d-fb80-453a-9f73-d036b2e7789f",
   "metadata": {},
   "outputs": [
    {
     "data": {
      "text/plain": [
       "3"
      ]
     },
     "execution_count": 13,
     "metadata": {},
     "output_type": "execute_result"
    }
   ],
   "source": [
    "list_enemies.index('light magic')"
   ]
  },
  {
   "cell_type": "code",
   "execution_count": 14,
   "id": "e64b54f3-dce0-4ba3-9f0c-cc8b4d645f24",
   "metadata": {},
   "outputs": [],
   "source": [
    "list_enemies.insert(2, 'spicy food')"
   ]
  },
  {
   "cell_type": "code",
   "execution_count": 15,
   "id": "5addad65-f409-4c64-9d88-5d1e53fb04a1",
   "metadata": {},
   "outputs": [
    {
     "name": "stdout",
     "output_type": "stream",
     "text": [
      "['water', 'purgatory', 'spicy food', 'sun', 'light magic', 'sleep']\n"
     ]
    }
   ],
   "source": [
    "print(list_enemies)"
   ]
  },
  {
   "cell_type": "code",
   "execution_count": 17,
   "id": "a8a3fe70-0912-4b6b-a9d7-ca55965e4be8",
   "metadata": {},
   "outputs": [
    {
     "name": "stdout",
     "output_type": "stream",
     "text": [
      "['water', 'purgatory', 'spicy food', 'sun', 'light magic']\n"
     ]
    }
   ],
   "source": [
    "list_enemies.pop(5)\n",
    "print(list_enemies)"
   ]
  },
  {
   "cell_type": "code",
   "execution_count": 18,
   "id": "191e9ab1-8b36-451b-a293-447bd9d75b0a",
   "metadata": {},
   "outputs": [
    {
     "name": "stdout",
     "output_type": "stream",
     "text": [
      "['purgatory', 'spicy food', 'sun', 'light magic']\n"
     ]
    }
   ],
   "source": [
    "list_enemies.remove('water')\n",
    "print(list_enemies)"
   ]
  },
  {
   "cell_type": "code",
   "execution_count": 19,
   "id": "db9573ba-9dc6-4014-a6db-6e4e81a5c751",
   "metadata": {},
   "outputs": [
    {
     "name": "stdout",
     "output_type": "stream",
     "text": [
      "['light magic', 'sun', 'spicy food', 'purgatory']\n"
     ]
    }
   ],
   "source": [
    "list_enemies.reverse()\n",
    "print(list_enemies)"
   ]
  },
  {
   "cell_type": "code",
   "execution_count": 22,
   "id": "d205491b-e81a-43da-a7f4-1a88b931f98b",
   "metadata": {},
   "outputs": [
    {
     "name": "stdout",
     "output_type": "stream",
     "text": [
      "['light magic', 'sun', 'spicy food', 'purgatory']\n"
     ]
    }
   ],
   "source": [
    "list_enemies_02 = list_enemies.copy()\n",
    "print(list_enemies_02)"
   ]
  },
  {
   "cell_type": "code",
   "execution_count": 21,
   "id": "811cdb51-b52e-43af-9735-024a654c9088",
   "metadata": {},
   "outputs": [],
   "source": [
    "#end practice list"
   ]
  },
  {
   "cell_type": "code",
   "execution_count": 5,
   "id": "220f073e-84f6-4c5d-a79c-6e7e9e87ce27",
   "metadata": {},
   "outputs": [
    {
     "name": "stdout",
     "output_type": "stream",
     "text": [
      "C:\\Users\\Evergarden\\Documents\\GitHub\\BIOS-584\n"
     ]
    }
   ],
   "source": [
    "print(os.getcwd())\n",
    "ptsd_dir = \"{}/data/PTSD dataset.xlsx\".format(os.getcwd())\n",
    "ptsd_df = pd.read_excel(ptsd_dir, sheet_name=1)"
   ]
  },
  {
   "cell_type": "code",
   "execution_count": 16,
   "id": "61a9d0e4-9ce9-4912-b92b-cccfcf087f0f",
   "metadata": {},
   "outputs": [
    {
     "name": "stdout",
     "output_type": "stream",
     "text": [
      "{1: 'Extensive Over-reporters (n=83)', 2: 'Limited Over-reporters (n=325)', 3: 'Congruent Reporters (n=75)'}\n"
     ]
    }
   ],
   "source": [
    "caps_var = \"caps_minuspcl_code\"\n",
    "r_var = \"race_code\"\n",
    "\n",
    "grp_size = ptsd_df[caps_var].value_counts().sort_index()\n",
    "#print(grp_size)\n",
    "\n",
    "r_lab = {1: 'White(1)', 2: 'Black(2)', 3: 'Asian/Pacific Islander(3)', 4: 'Native American(4)', \n",
    "               5: 'Multi-racial(5)', 6: 'Missing(6)'\n",
    "              }\n",
    "#print(r_lab)\n",
    "\n",
    "caps_lab = {1: f'Extensive Over-reporters (n={grp_size[1]})', 2: f'Limited Over-reporters (n={grp_size[2]})', \n",
    "            3: f'Congruent Reporters (n={grp_size[3]})'\n",
    "            }\n",
    "print(caps_lab)"
   ]
  },
  {
   "cell_type": "code",
   "execution_count": null,
   "id": "22fc32b5-890a-4c46-92e3-fcc3a76d0bf8",
   "metadata": {},
   "outputs": [],
   "source": [
    "# Relevant code to fill in race group in Table 1\n",
    "caps_var = \"caps_minuspcl_code\"\n",
    "r_var = \"race_code\"\n",
    "\n",
    "grp_size = ptsd_df[caps_var].value_counts().sort_index()\n",
    "\n",
    "r_lab = {1: 'White(1)', 2: 'Black(2)', 3: 'Asian/Pacific Islander(3)', 4: 'Native American(4)', \n",
    "               5: 'Multi-racial(5)', 6: 'Missing(6)'\n",
    "              }\n",
    "\n",
    "caps_lab = {1: f'Extensive Over-reporters (n={grp_size[1]})', 2: f'Limited Over-reporters (n={grp_size[2]})', \n",
    "            3: f'Congruent Reporters (n={grp_size[3]})'\n",
    "            }\n",
    "\n",
    "tbl_01 = pd.crosstab(ptsd_df[r_var], ptsd_df[caps_var])\n",
    "\n",
    "final_tbl = pd.DataFrame()\n",
    "\n",
    "for i in sorted(tbl_01.columns):\n",
    "    freq = tbl_01[i]\n",
    "    prop = (freq / tbl_01[i].sum() * 100)\n",
    "\n",
    "    final_tbl[caps_lab[i]] = freq.astype(str) + ' (' + prop.astype(str) + '%)'\n",
    "\n",
    "p_value = []\n",
    "\n",
    "for j in sorted(r_lab.keys()):\n",
    "    cur_r = tbl_01.loc[j].values\n",
    "    rest_r = tbl_01.drop(j).sum().values\n",
    "\n",
    "    test_tbl = np.array([cur_r, rest_r])\n",
    "\n",
    "    chi2, p_val, dof, expected = stats.chi2_contingency(test_tbl)\n",
    "    p_value.append(p_val)\n",
    "\n",
    "final_tbl.index = [r_lab[k] for k in final_tbl.index]\n",
    "\n",
    "final_tbl['p-value'] = [f'{p:.4f}' for p in p_value]\n",
    "\n",
    "final_tbl.index.name = \"Patient Characteristic Race n(%)\"\n",
    "\n",
    "display(final_tbl)"
   ]
  },
  {
   "cell_type": "code",
   "execution_count": null,
   "id": "aedb0fc2-4b48-4f4b-b21c-2d634f5cb290",
   "metadata": {},
   "outputs": [],
   "source": []
  }
 ],
 "metadata": {
  "kernelspec": {
   "display_name": "Python 3 (ipykernel)",
   "language": "python",
   "name": "python3"
  },
  "language_info": {
   "codemirror_mode": {
    "name": "ipython",
    "version": 3
   },
   "file_extension": ".py",
   "mimetype": "text/x-python",
   "name": "python",
   "nbconvert_exporter": "python",
   "pygments_lexer": "ipython3",
   "version": "3.13.7"
  }
 },
 "nbformat": 4,
 "nbformat_minor": 5
}

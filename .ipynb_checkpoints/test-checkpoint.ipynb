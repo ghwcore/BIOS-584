{
 "cells": [
  {
   "cell_type": "code",
   "execution_count": 1,
   "id": "c757f276-eaf6-49c8-847e-d9ed0ca0cca0",
   "metadata": {},
   "outputs": [
    {
     "name": "stdout",
     "output_type": "stream",
     "text": [
      "Welcome to BIOS-584!\n"
     ]
    }
   ],
   "source": [
    "print('Welcome to BIOS-584!')"
   ]
  },
  {
   "cell_type": "code",
   "execution_count": 3,
   "id": "af1c886c-8a14-422e-bb42-7b82f1af0485",
   "metadata": {},
   "outputs": [
    {
     "name": "stdout",
     "output_type": "stream",
     "text": [
      "['water', 'purgatory', 'sun', 'light magic']\n"
     ]
    }
   ],
   "source": [
    "list_enemies = ['water', 'purgatory', 'sun', 'light magic'] \n",
    "print(list_enemies)"
   ]
  },
  {
   "cell_type": "code",
   "execution_count": 8,
   "id": "818e0f6f-3141-41da-8f47-8627f24b7396",
   "metadata": {},
   "outputs": [
    {
     "name": "stdout",
     "output_type": "stream",
     "text": [
      "['water', 'purgatory', 'sun', 'light magic', 'sleep', 'sleep', 'sleep', 'sleep', 'sleep']\n"
     ]
    }
   ],
   "source": [
    "list_enemies.append('sleep')\n",
    "print(list_enemies)"
   ]
  },
  {
   "cell_type": "code",
   "execution_count": null,
   "id": "9e286550-d731-43ac-af8f-ca40cfaf57ca",
   "metadata": {},
   "outputs": [],
   "source": []
  },
  {
   "cell_type": "code",
   "execution_count": null,
   "id": "de9e2c5d-fb80-453a-9f73-d036b2e7789f",
   "metadata": {},
   "outputs": [],
   "source": []
  }
 ],
 "metadata": {
  "kernelspec": {
   "display_name": "Python 3 (ipykernel)",
   "language": "python",
   "name": "python3"
  },
  "language_info": {
   "codemirror_mode": {
    "name": "ipython",
    "version": 3
   },
   "file_extension": ".py",
   "mimetype": "text/x-python",
   "name": "python",
   "nbconvert_exporter": "python",
   "pygments_lexer": "ipython3",
   "version": "3.13.7"
  }
 },
 "nbformat": 4,
 "nbformat_minor": 5
}
